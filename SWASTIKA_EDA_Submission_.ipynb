{
  "nbformat": 4,
  "nbformat_minor": 0,
  "metadata": {
    "colab": {
      "private_outputs": true,
      "provenance": [],
      "collapsed_sections": [
        "vncDsAP0Gaoa",
        "FJNUwmbgGyua",
        "w6K7xa23Elo4",
        "O_i_v8NEhb9l",
        "HhfV-JJviCcP",
        "Y3lxredqlCYt",
        "3RnN4peoiCZX",
        "x71ZqKXriCWQ",
        "7hBIi_osiCS2",
        "JlHwYmJAmNHm",
        "35m5QtbWiB9F",
        "PoPl-ycgm1ru",
        "H0kj-8xxnORC",
        "nA9Y7ga8ng1Z",
        "PBTbrJXOngz2",
        "u3PMJOP6ngxN",
        "dauF4eBmngu3",
        "bKJF3rekwFvQ",
        "MSa1f5Uengrz",
        "GF8Ens_Soomf",
        "0wOQAZs5pc--",
        "K5QZ13OEpz2H",
        "lQ7QKXXCp7Bj",
        "448CDAPjqfQr",
        "KSlN3yHqYklG",
        "t6dVpIINYklI",
        "ijmpgYnKYklI",
        "-JiQyfWJYklI",
        "EM7whBJCYoAo",
        "fge-S5ZAYoAp",
        "85gYPyotYoAp",
        "RoGjAbkUYoAp",
        "4Of9eVA-YrdM",
        "iky9q4vBYrdO",
        "F6T5p64dYrdO",
        "y-Ehk30pYrdP",
        "bamQiAODYuh1",
        "QHF8YVU7Yuh3",
        "GwzvFGzlYuh3",
        "qYpmQ266Yuh3",
        "OH-pJp9IphqM",
        "bbFf2-_FphqN",
        "_ouA3fa0phqN",
        "Seke61FWphqN",
        "PIIx-8_IphqN",
        "t27r6nlMphqO",
        "r2jJGEOYphqO",
        "b0JNsNcRphqO",
        "BZR9WyysphqO",
        "jj7wYXLtphqO",
        "eZrbJ2SmphqO",
        "rFu4xreNphqO",
        "YJ55k-q6phqO",
        "gCFgpxoyphqP",
        "OVtJsKN_phqQ",
        "lssrdh5qphqQ",
        "U2RJ9gkRphqQ",
        "1M8mcRywphqQ",
        "tgIPom80phqQ",
        "JMzcOPDDphqR",
        "x-EpHcCOp1ci",
        "X_VqEhTip1ck",
        "8zGJKyg5p1ck",
        "PVzmfK_Ep1ck",
        "n3dbpmDWp1ck",
        "ylSl6qgtp1ck",
        "ZWILFDl5p1ck",
        "M7G43BXep1ck",
        "Ag9LCva-p1cl",
        "E6MkPsBcp1cl",
        "2cELzS2fp1cl",
        "3MPXvC8up1cl",
        "NC_X3p0fY2L0",
        "UV0SzAkaZNRQ",
        "YPEH6qLeZNRQ",
        "q29F0dvdveiT",
        "EXh0U9oCveiU",
        "22aHeOlLveiV",
        "JcMwzZxoAimU",
        "8G2x9gOozGDZ",
        "gCX9965dhzqZ",
        "gIfDvo9L0UH2"
      ],
      "include_colab_link": true
    },
    "kernelspec": {
      "name": "python3",
      "display_name": "Python 3"
    },
    "language_info": {
      "name": "python"
    }
  },
  "cells": [
    {
      "cell_type": "markdown",
      "metadata": {
        "id": "view-in-github",
        "colab_type": "text"
      },
      "source": [
        "<a href=\"https://colab.research.google.com/github/swastiika14/EDA_AirBnB/blob/main/SWASTIKA_EDA_Submission_.ipynb\" target=\"_parent\"><img src=\"https://colab.research.google.com/assets/colab-badge.svg\" alt=\"Open In Colab\"/></a>"
      ]
    },
    {
      "cell_type": "markdown",
      "source": [
        "# **Project Name**    -  Airbnb NYC 2019 - Exploratory Data Analysis\n",
        "\n",
        "\n"
      ],
      "metadata": {
        "id": "vncDsAP0Gaoa"
      }
    },
    {
      "cell_type": "markdown",
      "source": [
        "##### **Project Type**    - EDA\n",
        "##### **Contribution**    - Individual\n",
        "##### **NAME -** SWASTIKA SRIVASTAVA\n"
      ],
      "metadata": {
        "id": "beRrZCGUAJYm"
      }
    },
    {
      "cell_type": "markdown",
      "source": [
        "# **Project Summary -**"
      ],
      "metadata": {
        "id": "FJNUwmbgGyua"
      }
    },
    {
      "cell_type": "markdown",
      "source": [
        "Write the summary here within 500-600 words.\n",
        "**Airbnb NYC 2019 Dataset: Project Overview**\n",
        "\n",
        "This project operates within the Airbnb NYC 2019 data set based on a data visualization and analysis platform. The primary goal is to derive valuable insights from the data to aid in decision-making by customers, hosts, and the Airbnb platform as a whole. The data set is comprised of location, price, availability, room type, and customer review statistics in five NYC boroughs.\n",
        "\n",
        "The project starts with cleaning data and imputation of missing values, specifically in columns titled `reviews_per_month` and `host_name`. Null value distributions are presented visually with the help of a heatmap, thus allowing for more reliable data manipulation. Initial exploratory data analysis (EDA) is carried out in an attempt to create a sense of the overall structure of the dataset, e.g., listing distribution according to room type and borough.\n",
        "\n",
        "Fifteen various visualizations were created in order to gain insights pertaining to business objectives. Bar charts were utilized to represent the count of listings differentiated by borough and room types and determined that Manhattan and Brooklyn are the highest-performing markets, whereas Staten Island and the Bronx reflect poor performance. Histograms pertaining to price, minimum night stays, and availability were utilized to examine the booking trends and discovered that the majority of listings are priced below $200 and are available throughout the entire year. Additionally, correlation heatmaps and pair plots were utilized to examine the interrelation among numerical variables and may be helpful in the potential development of models.\n",
        "Geospatial analysis was also done through scatter plots of latitudinal and longitudinal coordinates to show the focus of property listings, especially in the middle of Manhattan. Review frequency and average prices by borough helped in the evaluation of pricing strategy and demand in the market. The Manhattan listings had higher average prices and review counts, reflecting high tourist activity, and the Bronx and Staten Island had lower interaction levels, thus reflecting potential for market expansion.\n",
        "\n",
        "Other sophisticated analysis consists of forecasted revenue segmented by borough and the Listings activity, gauged by the metric of average monthly reviews. This type of data allow the evaluation of profitability and consumer demand. Price versus reviews scatter plots revealed a loose negative correlation, indicating that more guest activity is seen on listings that are lower priced. In addition, the room type distribution by borough revealed that private rooms are more demanded in the outer boroughs, with entire apartments still dominating Manhattan.\n",
        "\n",
        "All graphical illustrations were chosen for their efficiency to convey certain trends or patterns. The insights derived from these observations make it possible to better price, make available, and locate, and also indicate potential business hazards like market saturation or lack of visibility in already saturated markets. For example, overreliance on performing districts like Manhattan could turn out to be an issue in case of more stringent regulations or if consumer behavior shifts.\n",
        "\n",
        "In conclusion, this project gives an analytical perspective of the New York City Airbnb market. The project covers short-term optimization strategies such as pricing and listing strategies and long-term planning issues such as market expansion and recruitment of hosts. The results give evidence-based practices to companies operating with Airbnb, host users, and data analysts who would want to create predictive models or recommendation systems from this data."
      ],
      "metadata": {
        "id": "F6v_1wHtG2nS"
      }
    },
    {
      "cell_type": "markdown",
      "source": [
        "# **GitHub Link -**"
      ],
      "metadata": {
        "id": "w6K7xa23Elo4"
      }
    },
    {
      "cell_type": "markdown",
      "source": [
        "Provide your GitHub Link here."
      ],
      "metadata": {
        "id": "h1o69JH3Eqqn"
      }
    },
    {
      "cell_type": "markdown",
      "source": [
        "# **Problem Statement**\n"
      ],
      "metadata": {
        "id": "yQaldy8SH6Dl"
      }
    },
    {
      "cell_type": "markdown",
      "source": [
        "\n",
        "\n",
        "**Write Problem Statement Here.**\n",
        "\n",
        "The project will examine the Airbnb NYC 2019 data to determine trends in prices, availability, and listing performance within the five New York City boroughs. The goal is to determine actionable insights that can be applied to make business decisions by utilizing them to benefit both the hosts and the Airbnb platform, and determine areas of opportunity and risk."
      ],
      "metadata": {
        "id": "DpeJGUA3kjGy"
      }
    },
    {
      "cell_type": "markdown",
      "source": [
        "#### **Define Your Business Objective?**\n",
        "\n"
      ],
      "metadata": {
        "id": "PH-0ReGfmX4f"
      }
    },
    {
      "cell_type": "markdown",
      "source": [
        "The aim of this project is to provide a deep dive analysis of the Airbnb NYC 2019 dataset to produce actionable insights for strategic and operational decision-making. By examining listing behavior across New York City's five boroughs, the analysis will reveal trends in pricing, availability, room types, and customer behavior. The project will allow stakeholders to maximize revenue, maximize customer satisfaction, and efficiently allocate resources. The project also seeks to reveal emergent trends, underperforming locations, and emerging risks such as market oversaturation. These insights will allow Airbnb to develop personalized marketing plans, optimize host onboarding, and optimize user experiences through data-driven platform enhancements. The aim of this project is to analyze the Airbnb NYC 2019 dataset to produce insightful findings that inform strategic business decisions. In particular, it will reveal patterns in pricing, availability, and customer behavior by borough to optimize host performance and platform efficiency. These findings will allow data-driven decisions on pricing strategy, user engagement, host acquisition, and market expansion. The project will also reveal underperforming locations and emerging risks, allowing Airbnb to optimize customer experience while maximizing revenue and occupancy."
      ],
      "metadata": {
        "id": "PhDvGCAqmjP1"
      }
    },
    {
      "cell_type": "markdown",
      "source": [
        "# ***Let's Begin !***"
      ],
      "metadata": {
        "id": "O_i_v8NEhb9l"
      }
    },
    {
      "cell_type": "markdown",
      "source": [
        "## ***1. Know Your Data***"
      ],
      "metadata": {
        "id": "HhfV-JJviCcP"
      }
    },
    {
      "cell_type": "markdown",
      "source": [
        "### Import Libraries"
      ],
      "metadata": {
        "id": "Y3lxredqlCYt"
      }
    },
    {
      "cell_type": "code",
      "source": [
        "# Import Libraries\n",
        "import pandas as pd\n",
        "import matplotlib.pyplot as plt\n",
        "import seaborn as sns\n",
        "sns.set_theme(style=\"darkgrid\")"
      ],
      "metadata": {
        "id": "M8Vqi-pPk-HR"
      },
      "execution_count": null,
      "outputs": []
    },
    {
      "cell_type": "code",
      "source": [
        "from google.colab import drive\n",
        "drive.mount('/content/drive')"
      ],
      "metadata": {
        "id": "G5Ljg24HXxjO"
      },
      "execution_count": null,
      "outputs": []
    },
    {
      "cell_type": "markdown",
      "source": [
        "### Dataset Loading"
      ],
      "metadata": {
        "id": "3RnN4peoiCZX"
      }
    },
    {
      "cell_type": "code",
      "source": [
        "# Load Dataset\n",
        "path='/content/drive/MyDrive/Colab Notebooks/Copy of Airbnb NYC 2019.csv'\n",
        "df = pd.read_csv(path)"
      ],
      "metadata": {
        "id": "4CkvbW_SlZ_R"
      },
      "execution_count": null,
      "outputs": []
    },
    {
      "cell_type": "markdown",
      "source": [
        "### Dataset First View"
      ],
      "metadata": {
        "id": "x71ZqKXriCWQ"
      }
    },
    {
      "cell_type": "code",
      "source": [
        "# Dataset First Look\n",
        "df.head()"
      ],
      "metadata": {
        "id": "LWNFOSvLl09H"
      },
      "execution_count": null,
      "outputs": []
    },
    {
      "cell_type": "code",
      "source": [
        "print(\"\\nColumn names:\\n\", df.columns)"
      ],
      "metadata": {
        "id": "lCQe6IRef5CS"
      },
      "execution_count": null,
      "outputs": []
    },
    {
      "cell_type": "code",
      "source": [
        "print(\"\\nData types:\\n\", df.dtypes)"
      ],
      "metadata": {
        "id": "osTW32Dyf8XD"
      },
      "execution_count": null,
      "outputs": []
    },
    {
      "cell_type": "code",
      "source": [
        "df.shape"
      ],
      "metadata": {
        "id": "q_MquWBlki4w"
      },
      "execution_count": null,
      "outputs": []
    },
    {
      "cell_type": "markdown",
      "source": [
        "### Dataset Rows & Columns count"
      ],
      "metadata": {
        "id": "7hBIi_osiCS2"
      }
    },
    {
      "cell_type": "code",
      "source": [
        "# Dataset Rows & Columns count\n",
        "df.value_counts()"
      ],
      "metadata": {
        "id": "Kllu7SJgmLij"
      },
      "execution_count": null,
      "outputs": []
    },
    {
      "cell_type": "markdown",
      "source": [
        "### Dataset Information"
      ],
      "metadata": {
        "id": "JlHwYmJAmNHm"
      }
    },
    {
      "cell_type": "code",
      "source": [
        "# Dataset Info\n",
        "df.info()"
      ],
      "metadata": {
        "id": "e9hRXRi6meOf"
      },
      "execution_count": null,
      "outputs": []
    },
    {
      "cell_type": "markdown",
      "source": [
        "#### Duplicate Values"
      ],
      "metadata": {
        "id": "35m5QtbWiB9F"
      }
    },
    {
      "cell_type": "code",
      "source": [
        "# Dataset Duplicate Value Count\n",
        "len(df[df.duplicated()])"
      ],
      "metadata": {
        "id": "1sLdpKYkmox0"
      },
      "execution_count": null,
      "outputs": []
    },
    {
      "cell_type": "markdown",
      "source": [
        "#### Missing Values/Null Values"
      ],
      "metadata": {
        "id": "PoPl-ycgm1ru"
      }
    },
    {
      "cell_type": "code",
      "source": [
        "# Missing Values/Null Values Count\n",
        "missing=df.isnull().sum()\n",
        "print(missing)"
      ],
      "metadata": {
        "id": "GgHWkxvamxVg"
      },
      "execution_count": null,
      "outputs": []
    },
    {
      "cell_type": "code",
      "source": [
        "missing = missing[missing > 0].sort_values(ascending=True)\n",
        "sns.barplot(x=missing.values, y=missing.index)\n",
        "plt.title(\"Missing Values per Column\", fontsize=16, fontweight='bold')\n",
        "plt.xlabel(\"Count of Missing Values\")\n",
        "plt.ylabel(\"Column Name\")\n",
        "plt.grid(axis='x', linestyle='--', alpha=0.5)\n",
        "plt.tight_layout()\n",
        "plt.show()"
      ],
      "metadata": {
        "id": "pB7ZB-wtg8bL"
      },
      "execution_count": null,
      "outputs": []
    },
    {
      "cell_type": "code",
      "source": [
        "plt.figure(figsize=(9, 3))\n",
        "sns.heatmap(df.isnull(), cbar=False, cmap='YlGnBu')\n",
        "plt.title(\"Missing Values Heatmap\", fontsize=16)\n",
        "plt.show()"
      ],
      "metadata": {
        "id": "80A6o6iPgfEn"
      },
      "execution_count": null,
      "outputs": []
    },
    {
      "cell_type": "markdown",
      "source": [
        "### What did you know about your dataset?\n",
        "\n"
      ],
      "metadata": {
        "id": "H0kj-8xxnORC"
      }
    },
    {
      "cell_type": "markdown",
      "source": [
        "Airbnb NYC 2019 dataset contains detailed data about Airbnb listings in five New York City boroughs. It contains data regarding hosts, listing names, locations, prices, availabilities, room types, and customer engagement metrics like reviews count and review frequency.\n",
        "\n",
        "From considering the initial data, I noticed that:\n",
        "\n",
        "The information is located in various sections with varying numbers of listings.\n",
        "\n",
        "They are mostly in three categories of rooms: Entire home/apartment, Private room, and Shared room.\n",
        "\n",
        "There are missing values in some columns like reviews_per_month and host_name.\n",
        "\n",
        "Prices and availability are very volatile, and this can impact customer choice and sales.\n",
        "\n",
        "They are most commonly located in areas such as Manhattan and Brooklyn.\n",
        "\n",
        "This initial finding is what influenced the subsequent focus areas for cleaning, analysis, and visualization"
      ],
      "metadata": {
        "id": "gfoNAAC-nUe_"
      }
    },
    {
      "cell_type": "markdown",
      "source": [
        "## ***2. Understanding Your Variables***"
      ],
      "metadata": {
        "id": "nA9Y7ga8ng1Z"
      }
    },
    {
      "cell_type": "code",
      "source": [
        "# Dataset Columns\n",
        "df.columns"
      ],
      "metadata": {
        "id": "j7xfkqrt5Ag5"
      },
      "execution_count": null,
      "outputs": []
    },
    {
      "cell_type": "code",
      "source": [
        "# Dataset Describe\n",
        "df.describe()"
      ],
      "metadata": {
        "id": "DnOaZdaE5Q5t"
      },
      "execution_count": null,
      "outputs": []
    },
    {
      "cell_type": "markdown",
      "source": [
        "### Variables Description"
      ],
      "metadata": {
        "id": "PBTbrJXOngz2"
      }
    },
    {
      "cell_type": "markdown",
      "source": [
        "\n",
        "\n",
        "---\n",
        "\n",
        "### 📝 **Variable Description (Airbnb NYC 2019)**\n",
        "\n",
        "| Variable Name                         | Description                                                              |\n",
        "| ------------------------------------- | ------------------------------------------------------------------------ |\n",
        "| **id**                                | Unique identifier for each Airbnb listing.                               |\n",
        "| **name**                              | Name/title of the listing written by the host.                           |\n",
        "| **host\\_id**                          | Unique identifier for each host.                                         |\n",
        "| **host\\_name**                        | Name of the host (may be missing in some entries).                       |\n",
        "| **neighbourhood\\_group**              | The borough in which the listing is located (e.g., Manhattan, Brooklyn). |\n",
        "| **neighbourhood**                     | Specific neighborhood within the borough.                                |\n",
        "| **latitude**                          | Geographic latitude of the listing.                                      |\n",
        "| **longitude**                         | Geographic longitude of the listing.                                     |\n",
        "| **room\\_type**                        | Type of room offered: Entire home/apt, Private room, or Shared room.     |\n",
        "| **price**                             | Price per night (in USD) for the listing.                                |\n",
        "| **minimum\\_nights**                   | Minimum number of nights a guest must stay.                              |\n",
        "| **number\\_of\\_reviews**               | Total number of reviews the listing has received.                        |\n",
        "| **last\\_review**                      | Date of the most recent review (may be null if no reviews).              |\n",
        "| **reviews\\_per\\_month**               | Average number of reviews per month (calculated, may be null).           |\n",
        "| **calculated\\_host\\_listings\\_count** | Number of listings the host has in total.                                |\n",
        "| **availability\\_365**                 | Number of days in a year the listing is available for booking (0–365).   |\n",
        "\n",
        "---\n"
      ],
      "metadata": {
        "id": "aJV4KIxSnxay"
      }
    },
    {
      "cell_type": "markdown",
      "source": [
        "### Check Unique Values for each variable."
      ],
      "metadata": {
        "id": "u3PMJOP6ngxN"
      }
    },
    {
      "cell_type": "code",
      "source": [
        "# Check Unique Values for each variable.\n",
        "for i in df.columns.tolist():\n",
        "  print(\"No of unique values in \",i,\":\",df[i].nunique())"
      ],
      "metadata": {
        "id": "zms12Yq5n-jE"
      },
      "execution_count": null,
      "outputs": []
    },
    {
      "cell_type": "markdown",
      "source": [
        "## 3. ***Data Wrangling***"
      ],
      "metadata": {
        "id": "dauF4eBmngu3"
      }
    },
    {
      "cell_type": "markdown",
      "source": [
        "### Data Wrangling Code"
      ],
      "metadata": {
        "id": "bKJF3rekwFvQ"
      }
    },
    {
      "cell_type": "code",
      "source": [
        "# Write your code to make your dataset analysis ready.\n",
        "df['host_name']=df['host_name'].fillna('Unknown')\n",
        "df['reviews_per_month']=df['reviews_per_month'].fillna(0)\n",
        "df['name'] = df['name'].fillna('No name')"
      ],
      "metadata": {
        "id": "ewS9Yq_eSagc"
      },
      "execution_count": null,
      "outputs": []
    },
    {
      "cell_type": "code",
      "source": [
        "\n",
        "print(\"No. of high-priced listings: \", len(df[df['price'] > 500]))\n",
        "df_high_price = df[df['price'] > 500]\n",
        "\n",
        "high_price_counts = pd.DataFrame(\n",
        "    df_high_price.groupby('neighbourhood_group')['price'].count().reset_index(name=\"Count\")\n",
        ")\n",
        "\n",
        "\n",
        "print(high_price_counts)\n",
        "\n"
      ],
      "metadata": {
        "id": "wk-9a2fpoLcV"
      },
      "execution_count": null,
      "outputs": []
    },
    {
      "cell_type": "code",
      "source": [
        "df = df[df['price'] > 0]"
      ],
      "metadata": {
        "id": "2lvqsjqeVYhx"
      },
      "execution_count": null,
      "outputs": []
    },
    {
      "cell_type": "code",
      "source": [
        "df.describe()"
      ],
      "metadata": {
        "id": "LZ8cRS2LWEF-"
      },
      "execution_count": null,
      "outputs": []
    },
    {
      "cell_type": "code",
      "source": [
        "df['neighbourhood_group'].value_counts()\n"
      ],
      "metadata": {
        "id": "pQZ5CsFJWURP"
      },
      "execution_count": null,
      "outputs": []
    },
    {
      "cell_type": "code",
      "source": [
        "df['room_type'].value_counts()"
      ],
      "metadata": {
        "id": "ajNNpDjhWXX0"
      },
      "execution_count": null,
      "outputs": []
    },
    {
      "cell_type": "code",
      "source": [
        "df.groupby('neighbourhood_group')['price'].mean().sort_values(ascending=False)"
      ],
      "metadata": {
        "id": "rgkVyFwrWdaO"
      },
      "execution_count": null,
      "outputs": []
    },
    {
      "cell_type": "code",
      "source": [
        "df.groupby(['neighbourhood_group', 'room_type']).size().unstack().fillna(0)"
      ],
      "metadata": {
        "id": "xStW0cd4XJqP"
      },
      "execution_count": null,
      "outputs": []
    },
    {
      "cell_type": "code",
      "source": [
        "df.groupby('neighbourhood_group')['availability_365'].mean()"
      ],
      "metadata": {
        "id": "e_8ra6AzZYVo"
      },
      "execution_count": null,
      "outputs": []
    },
    {
      "cell_type": "code",
      "source": [
        "df.groupby('room_type')['price'].mean()"
      ],
      "metadata": {
        "id": "4hiFwm_8dHCW"
      },
      "execution_count": null,
      "outputs": []
    },
    {
      "cell_type": "code",
      "source": [
        "pop_neighbour= df['neighbourhood'].value_counts().head(10)\n",
        "pop_neighbour"
      ],
      "metadata": {
        "id": "FlCu_PHzd3SG"
      },
      "execution_count": null,
      "outputs": []
    },
    {
      "cell_type": "markdown",
      "source": [
        "### What all manipulations have you done and insights you found?"
      ],
      "metadata": {
        "id": "MSa1f5Uengrz"
      }
    },
    {
      "cell_type": "markdown",
      "source": [
        "In the Airbnb NYC 2019 dataset, several key data manipulations were performed to prepare and analyze the data effectively. Missing values in the host_name and reviews_per_month columns were handled by replacing them with 'Unknown' and 0, respectively. Outlier filtering was applied by restricting the price to under \\$500 and limiting minimum nights to fewer than 30 for clearer trend analysis. New features like estimated_revenue were engineered, and grouping operations were conducted to analyze borough-wise trends in price, availability, and review patterns.\n",
        "\n",
        "Through these manipulations, it was observed that Brooklyn and Manhattan dominate the listing count, while Manhattan also leads in average price and estimated revenue. Most listings are either private rooms or entire apartments, and availability varies significantly across listings. Positive trends between reviews and revenue highlight strong customer engagement in certain areas, though price was not strongly correlated with other numerical features, suggesting market-driven pricing strategies. These insights can support pricing optimization, marketing focus, and host engagement strategies."
      ],
      "metadata": {
        "id": "LbyXE7I1olp8"
      }
    },
    {
      "cell_type": "markdown",
      "source": [
        "## ***4. Data Vizualization, Storytelling & Experimenting with charts : Understand the relationships between variables***"
      ],
      "metadata": {
        "id": "GF8Ens_Soomf"
      }
    },
    {
      "cell_type": "markdown",
      "source": [
        "#### Chart - 1"
      ],
      "metadata": {
        "id": "0wOQAZs5pc--"
      }
    },
    {
      "cell_type": "code",
      "source": [
        "plt.figure(figsize=(8, 4))\n",
        "sns.countplot(data=df, x='neighbourhood_group', hue='neighbourhood_group', palette='plasma', legend=False)\n",
        "plt.title(\"Number of Listings by Area\")\n",
        "plt.ylabel(\"Count\")\n",
        "plt.xticks(rotation=45)\n",
        "plt.tight_layout()\n",
        "plt.show()"
      ],
      "metadata": {
        "id": "ouyFO1wMebjU"
      },
      "execution_count": null,
      "outputs": []
    },
    {
      "cell_type": "markdown",
      "source": [
        "##### 1. Why did you pick the specific chart?"
      ],
      "metadata": {
        "id": "K5QZ13OEpz2H"
      }
    },
    {
      "cell_type": "markdown",
      "source": [
        "It shows the distribution of listings across NYC’s five boroughs."
      ],
      "metadata": {
        "id": "XESiWehPqBRc"
      }
    },
    {
      "cell_type": "markdown",
      "source": [
        "##### 2. What is/are the insight(s) found from the chart?"
      ],
      "metadata": {
        "id": "lQ7QKXXCp7Bj"
      }
    },
    {
      "cell_type": "markdown",
      "source": [
        "Manhattan has the highest number of listings, followed by Brooklyn. Staten Island has the least."
      ],
      "metadata": {
        "id": "C_j1G7yiqdRP"
      }
    },
    {
      "cell_type": "markdown",
      "source": [
        "##### 3. Will the gained insights help creating a positive business impact?\n",
        "Are there any insights that lead to negative growth? Justify with specific reason."
      ],
      "metadata": {
        "id": "448CDAPjqfQr"
      }
    },
    {
      "cell_type": "markdown",
      "source": [
        "Helps identify where Airbnb is dominant. A lower count in Staten Island may indicate untapped potential or low demand."
      ],
      "metadata": {
        "id": "3cspy4FjqxJW"
      }
    },
    {
      "cell_type": "markdown",
      "source": [
        "#### Chart - 2"
      ],
      "metadata": {
        "id": "KSlN3yHqYklG"
      }
    },
    {
      "cell_type": "code",
      "source": [
        "# Chart - 2 visualization code\n",
        "df['room_type'].value_counts().plot.pie(autopct=\"%1.1f%%\", colors=sns.color_palette('Set2'))\n",
        "plt.title(\"Room Type Distribution\")\n",
        "plt.ylabel('count')\n",
        "plt.show()\n"
      ],
      "metadata": {
        "id": "R4YgtaqtYklH"
      },
      "execution_count": null,
      "outputs": []
    },
    {
      "cell_type": "markdown",
      "source": [
        "##### 1. Why did you pick the specific chart?"
      ],
      "metadata": {
        "id": "t6dVpIINYklI"
      }
    },
    {
      "cell_type": "markdown",
      "source": [
        "To understand the composition of listing types."
      ],
      "metadata": {
        "id": "5aaW0BYyYklI"
      }
    },
    {
      "cell_type": "markdown",
      "source": [
        "##### 2. What is/are the insight(s) found from the chart?"
      ],
      "metadata": {
        "id": "ijmpgYnKYklI"
      }
    },
    {
      "cell_type": "markdown",
      "source": [
        " 'Entire home/apt' dominates, followed by 'Private room'."
      ],
      "metadata": {
        "id": "PSx9atu2YklI"
      }
    },
    {
      "cell_type": "markdown",
      "source": [
        "##### 3. Will the gained insights help creating a positive business impact?\n",
        "Are there any insights that lead to negative growth? Justify with specific reason."
      ],
      "metadata": {
        "id": "-JiQyfWJYklI"
      }
    },
    {
      "cell_type": "markdown",
      "source": [
        "Indicates user preference and\n",
        " guides room-type-specific marketing."
      ],
      "metadata": {
        "id": "BcBbebzrYklV"
      }
    },
    {
      "cell_type": "markdown",
      "source": [
        "#### Chart - 3"
      ],
      "metadata": {
        "id": "EM7whBJCYoAo"
      }
    },
    {
      "cell_type": "code",
      "source": [
        "# Chart - 3 visualization code\n",
        "plt.figure(figsize=(10, 5))\n",
        "sns.countplot(data=df, x='neighbourhood_group', hue='room_type', palette='muted')\n",
        "plt.title(\"Room Types Across Areas\")\n",
        "plt.ylabel(\"Count\")\n",
        "plt.xticks(rotation=45)\n",
        "plt.tight_layout()\n",
        "plt.show()"
      ],
      "metadata": {
        "id": "t6GMdE67YoAp"
      },
      "execution_count": null,
      "outputs": []
    },
    {
      "cell_type": "markdown",
      "source": [
        "##### 1. Why did you pick the specific chart?"
      ],
      "metadata": {
        "id": "fge-S5ZAYoAp"
      }
    },
    {
      "cell_type": "markdown",
      "source": [
        "Shows how room types are distributed\n",
        " in each borough."
      ],
      "metadata": {
        "id": "5dBItgRVYoAp"
      }
    },
    {
      "cell_type": "markdown",
      "source": [
        "##### 2. What is/are the insight(s) found from the chart?"
      ],
      "metadata": {
        "id": "85gYPyotYoAp"
      }
    },
    {
      "cell_type": "markdown",
      "source": [
        "Entire homes dominate in Manhattan; private rooms more common in Brooklyn."
      ],
      "metadata": {
        "id": "4jstXR6OYoAp"
      }
    },
    {
      "cell_type": "markdown",
      "source": [
        "##### 3. Will the gained insights help creating a positive business impact?\n",
        "Are there any insights that lead to negative growth? Justify with specific reason."
      ],
      "metadata": {
        "id": "RoGjAbkUYoAp"
      }
    },
    {
      "cell_type": "markdown",
      "source": [
        "Helps Airbnb adjust supply strategy and host acquisition efforts."
      ],
      "metadata": {
        "id": "zfJ8IqMcYoAp"
      }
    },
    {
      "cell_type": "markdown",
      "source": [
        "#### Chart - 4"
      ],
      "metadata": {
        "id": "4Of9eVA-YrdM"
      }
    },
    {
      "cell_type": "code",
      "source": [
        "# Chart - 4 visualization code\n",
        "plt.figure(figsize=(10, 5))\n",
        "sns.histplot(df[df['price'] < 500]['price'], bins=60, kde=True, color='darkcyan')\n",
        "plt.title(\"Price Distribution \")\n",
        "plt.xlabel(\"Price\")\n",
        "plt.ylabel(\"Number of Listings\")\n",
        "plt.tight_layout()\n",
        "plt.show()\n"
      ],
      "metadata": {
        "id": "irlUoxc8YrdO"
      },
      "execution_count": null,
      "outputs": []
    },
    {
      "cell_type": "markdown",
      "source": [
        "##### 1. Why did you pick the specific chart?"
      ],
      "metadata": {
        "id": "iky9q4vBYrdO"
      }
    },
    {
      "cell_type": "markdown",
      "source": [
        "To visualize the distribution of typical listing prices and eliminate distortion from extreme outliers.\n",
        "\n"
      ],
      "metadata": {
        "id": "aJRCwT6DYrdO"
      }
    },
    {
      "cell_type": "markdown",
      "source": [
        "##### 2. What is/are the insight(s) found from the chart?"
      ],
      "metadata": {
        "id": "F6T5p64dYrdO"
      }
    },
    {
      "cell_type": "markdown",
      "source": [
        "Most listings are priced between $50  and  $200. The price distribution is right-skewed."
      ],
      "metadata": {
        "id": "Xx8WAJvtYrdO"
      }
    },
    {
      "cell_type": "markdown",
      "source": [
        "##### 3. Will the gained insights help creating a positive business impact?\n",
        "Are there any insights that lead to negative growth? Justify with specific reason."
      ],
      "metadata": {
        "id": "y-Ehk30pYrdP"
      }
    },
    {
      "cell_type": "markdown",
      "source": [
        "Yes. Helps hosts set competitive prices.\n",
        "Negative growth risk: Market saturation in the $100–$150 range may reduce bookings"
      ],
      "metadata": {
        "id": "jLNxxz7MYrdP"
      }
    },
    {
      "cell_type": "markdown",
      "source": [
        "#### Chart - 5"
      ],
      "metadata": {
        "id": "bamQiAODYuh1"
      }
    },
    {
      "cell_type": "code",
      "source": [
        "# Chart - 5 visualization code\n",
        "avg_price = df.groupby('neighbourhood_group')['price'].mean().sort_values(ascending=False)\n",
        "\n",
        "plt.figure(figsize=(8, 5))\n",
        "sns.barplot(x=avg_price.index,hue=avg_price.index, y=avg_price.values, palette=\"rocket\",legend=False)\n",
        "plt.title(\"Average Price by Area\")\n",
        "plt.ylabel(\"Average Price ($)\")\n",
        "plt.tight_layout()\n",
        "plt.show()\n"
      ],
      "metadata": {
        "id": "TIJwrbroYuh3"
      },
      "execution_count": null,
      "outputs": []
    },
    {
      "cell_type": "markdown",
      "source": [
        "##### 1. Why did you pick the specific chart?"
      ],
      "metadata": {
        "id": "QHF8YVU7Yuh3"
      }
    },
    {
      "cell_type": "markdown",
      "source": [
        "To compare average Airbnb prices across boroughs in a clear and ranked format."
      ],
      "metadata": {
        "id": "dcxuIMRPYuh3"
      }
    },
    {
      "cell_type": "markdown",
      "source": [
        "##### 2. What is/are the insight(s) found from the chart?"
      ],
      "metadata": {
        "id": "GwzvFGzlYuh3"
      }
    },
    {
      "cell_type": "markdown",
      "source": [
        "Manhattan has the highest average price, followed by Brooklyn. The Bronx has the lowest."
      ],
      "metadata": {
        "id": "uyqkiB8YYuh3"
      }
    },
    {
      "cell_type": "markdown",
      "source": [
        "##### 3. Will the gained insights help creating a positive business impact?\n",
        "Are there any insights that lead to negative growth? Justify with specific reason."
      ],
      "metadata": {
        "id": "qYpmQ266Yuh3"
      }
    },
    {
      "cell_type": "markdown",
      "source": [
        "Yes. Helps hosts and Airbnb adjust pricing strategies by location.\n",
        "Negative growth risk: High prices in Manhattan may deter budget travelers, reducing demand."
      ],
      "metadata": {
        "id": "_WtzZ_hCYuh4"
      }
    },
    {
      "cell_type": "markdown",
      "source": [
        "#### Chart - 6"
      ],
      "metadata": {
        "id": "OH-pJp9IphqM"
      }
    },
    {
      "cell_type": "code",
      "source": [
        "# Chart - 6 visualization code\n",
        "plt.figure(figsize=(10, 5))\n",
        "sns.histplot(df['availability_365'], bins=40, kde=True, color='skyblue')\n",
        "plt.title(\"Availability Over the Year\")\n",
        "plt.xlabel(\"Availability (Days)\")\n",
        "plt.tight_layout()\n",
        "plt.show()\n"
      ],
      "metadata": {
        "id": "kuRf4wtuphqN"
      },
      "execution_count": null,
      "outputs": []
    },
    {
      "cell_type": "markdown",
      "source": [
        "##### 1. Why did you pick the specific chart?"
      ],
      "metadata": {
        "id": "bbFf2-_FphqN"
      }
    },
    {
      "cell_type": "markdown",
      "source": [
        "To understand how frequently listings are available throughout the year.\n",
        "\n"
      ],
      "metadata": {
        "id": "loh7H2nzphqN"
      }
    },
    {
      "cell_type": "markdown",
      "source": [
        "##### 2. What is/are the insight(s) found from the chart?"
      ],
      "metadata": {
        "id": "_ouA3fa0phqN"
      }
    },
    {
      "cell_type": "markdown",
      "source": [
        "Many listings are either rarely available (0–50 days) or always available (365 days), suggesting two distinct hosting patterns"
      ],
      "metadata": {
        "id": "VECbqPI7phqN"
      }
    },
    {
      "cell_type": "markdown",
      "source": [
        "##### 3. Will the gained insights help creating a positive business impact?\n",
        "Are there any insights that lead to negative growth? Justify with specific reason."
      ],
      "metadata": {
        "id": "Seke61FWphqN"
      }
    },
    {
      "cell_type": "markdown",
      "source": [
        "Yes. Helps identify full-time vs part-time hosts and tailor engagement strategies."
      ],
      "metadata": {
        "id": "DW4_bGpfphqN"
      }
    },
    {
      "cell_type": "markdown",
      "source": [
        "#### Chart - 7"
      ],
      "metadata": {
        "id": "PIIx-8_IphqN"
      }
    },
    {
      "cell_type": "code",
      "source": [
        "# Chart - 7 visualization code\n",
        "plt.figure(figsize=(10, 6))\n",
        "sns.scatterplot(data=df[df['price'] < 500], x='longitude', y='latitude',\n",
        "                hue='neighbourhood_group', alpha=0.4, palette='Set1')\n",
        "plt.title(\"Geographical Spread of Listings \")\n",
        "plt.tight_layout()\n",
        "plt.show()\n"
      ],
      "metadata": {
        "id": "lqAIGUfyphqO"
      },
      "execution_count": null,
      "outputs": []
    },
    {
      "cell_type": "markdown",
      "source": [
        "##### 1. Why did you pick the specific chart?"
      ],
      "metadata": {
        "id": "t27r6nlMphqO"
      }
    },
    {
      "cell_type": "markdown",
      "source": [
        "To visualize how budget-friendly listings are distributed across NYC geographically."
      ],
      "metadata": {
        "id": "iv6ro40sphqO"
      }
    },
    {
      "cell_type": "markdown",
      "source": [
        "##### 2. What is/are the insight(s) found from the chart?"
      ],
      "metadata": {
        "id": "r2jJGEOYphqO"
      }
    },
    {
      "cell_type": "markdown",
      "source": [
        "Manhattan and Brooklyn have dense clusters of listings under $500, while Staten Island has fewer options."
      ],
      "metadata": {
        "id": "Po6ZPi4hphqO"
      }
    },
    {
      "cell_type": "markdown",
      "source": [
        "##### 3. Will the gained insights help creating a positive business impact?\n",
        "Are there any insights that lead to negative growth? Justify with specific reason."
      ],
      "metadata": {
        "id": "b0JNsNcRphqO"
      }
    },
    {
      "cell_type": "markdown",
      "source": [
        "Yes. Helps target areas for new listings and better pricing strategies.\n",
        "Negative growth risk: Sparse listings in outer boroughs may reflect low demand or host participation"
      ],
      "metadata": {
        "id": "xvSq8iUTphqO"
      }
    },
    {
      "cell_type": "markdown",
      "source": [
        "#### Chart - 8"
      ],
      "metadata": {
        "id": "BZR9WyysphqO"
      }
    },
    {
      "cell_type": "code",
      "source": [
        "# Chart - 8 visualization code\n",
        "top_neigh = df['neighbourhood'].value_counts().head(20)\n",
        "\n",
        "plt.figure(figsize=(10, 6))\n",
        "sns.barplot(y=top_neigh.index,hue=top_neigh.index, x=top_neigh.values, palette='plasma')\n",
        "plt.title(\"Top 20 Neighbourhoods by Listing Count\")\n",
        "plt.xlabel(\"Count\")\n",
        "plt.ylabel(\"Neighbourhood\")\n",
        "plt.tight_layout()\n",
        "plt.show()\n"
      ],
      "metadata": {
        "id": "TdPTWpAVphqO"
      },
      "execution_count": null,
      "outputs": []
    },
    {
      "cell_type": "markdown",
      "source": [
        "##### 1. Why did you pick the specific chart?"
      ],
      "metadata": {
        "id": "jj7wYXLtphqO"
      }
    },
    {
      "cell_type": "markdown",
      "source": [
        "To identify which neighborhoods have the highest Airbnb activity."
      ],
      "metadata": {
        "id": "Ob8u6rCTphqO"
      }
    },
    {
      "cell_type": "markdown",
      "source": [
        "##### 2. What is/are the insight(s) found from the chart?"
      ],
      "metadata": {
        "id": "eZrbJ2SmphqO"
      }
    },
    {
      "cell_type": "markdown",
      "source": [
        "Neighbourhoods like Williamsburg, Bedford-Stuyvesant, and Harlem have the most listings, indicating high host activity and guest demand."
      ],
      "metadata": {
        "id": "mZtgC_hjphqO"
      }
    },
    {
      "cell_type": "markdown",
      "source": [
        "##### 3. Will the gained insights help creating a positive business impact?\n",
        "Are there any insights that lead to negative growth? Justify with specific reason."
      ],
      "metadata": {
        "id": "rFu4xreNphqO"
      }
    },
    {
      "cell_type": "markdown",
      "source": [
        "Yes. Helps focus marketing and support in high-traffic areas."
      ],
      "metadata": {
        "id": "ey_0qi68phqO"
      }
    },
    {
      "cell_type": "markdown",
      "source": [
        "#### Chart - 9"
      ],
      "metadata": {
        "id": "YJ55k-q6phqO"
      }
    },
    {
      "cell_type": "code",
      "source": [
        "# Chart - 9 visualization code\n",
        "plt.figure(figsize=(10, 2))\n",
        "sns.stripplot(x=df[df['reviews_per_month'] > 0]['reviews_per_month'], color='purple', alpha=0.3, jitter=True)\n",
        "plt.title(\"Strip Plot of Reviews per Month\")\n",
        "plt.xlabel(\"Reviews per Month\")\n",
        "plt.tight_layout()\n",
        "plt.show()\n"
      ],
      "metadata": {
        "id": "B2aS4O1ophqO"
      },
      "execution_count": null,
      "outputs": []
    },
    {
      "cell_type": "markdown",
      "source": [
        "##### 1. Why did you pick the specific chart?"
      ],
      "metadata": {
        "id": "gCFgpxoyphqP"
      }
    },
    {
      "cell_type": "markdown",
      "source": [
        "To analyze how frequently listings receive guest reviews each month, excluding those with zero activity."
      ],
      "metadata": {
        "id": "TVxDimi2phqP"
      }
    },
    {
      "cell_type": "markdown",
      "source": [
        "##### 2. What is/are the insight(s) found from the chart?"
      ],
      "metadata": {
        "id": "OVtJsKN_phqQ"
      }
    },
    {
      "cell_type": "markdown",
      "source": [
        "Most listings receive fewer than 2 reviews per month, showing that only a small portion have high engagement."
      ],
      "metadata": {
        "id": "ngGi97qjphqQ"
      }
    },
    {
      "cell_type": "markdown",
      "source": [
        "##### 3. Will the gained insights help creating a positive business impact?\n",
        "Are there any insights that lead to negative growth? Justify with specific reason."
      ],
      "metadata": {
        "id": "lssrdh5qphqQ"
      }
    },
    {
      "cell_type": "markdown",
      "source": [
        "Yes. Identifies high-performing listings and helps improve engagement strategies."
      ],
      "metadata": {
        "id": "tBpY5ekJphqQ"
      }
    },
    {
      "cell_type": "markdown",
      "source": [
        "#### Chart - 10"
      ],
      "metadata": {
        "id": "U2RJ9gkRphqQ"
      }
    },
    {
      "cell_type": "code",
      "source": [
        "# Chart - 10 visualization code\n",
        "plt.figure(figsize=(10, 5))\n",
        "sns.kdeplot(df[df['minimum_nights'] < 30]['minimum_nights'], fill=True, color='teal')\n",
        "plt.title(\" Minimum Nights (Under 30 Only)\")\n",
        "plt.xlabel(\"Minimum Nights\")\n",
        "plt.ylabel(\"Density\")\n",
        "plt.tight_layout()\n",
        "plt.show()\n",
        "\n"
      ],
      "metadata": {
        "id": "GM7a4YP4phqQ"
      },
      "execution_count": null,
      "outputs": []
    },
    {
      "cell_type": "markdown",
      "source": [
        "##### 1. Why did you pick the specific chart?"
      ],
      "metadata": {
        "id": "1M8mcRywphqQ"
      }
    },
    {
      "cell_type": "markdown",
      "source": [
        "To focus on short-term stays by visualizing the common minimum night requirements without long-stay outliers."
      ],
      "metadata": {
        "id": "8agQvks0phqQ"
      }
    },
    {
      "cell_type": "markdown",
      "source": [
        "##### 2. What is/are the insight(s) found from the chart?"
      ],
      "metadata": {
        "id": "tgIPom80phqQ"
      }
    },
    {
      "cell_type": "markdown",
      "source": [
        "Most listings require 1–3 nights minimum, with 1 night being the most common, indicating a preference for flexibility."
      ],
      "metadata": {
        "id": "Qp13pnNzphqQ"
      }
    },
    {
      "cell_type": "markdown",
      "source": [
        "##### 3. Will the gained insights help creating a positive business impact?\n",
        "Are there any insights that lead to negative growth? Justify with specific reason."
      ],
      "metadata": {
        "id": "JMzcOPDDphqR"
      }
    },
    {
      "cell_type": "markdown",
      "source": [
        "Yes. Shows guest-friendly policies dominate, which can attract more short-stay bookings."
      ],
      "metadata": {
        "id": "R4Ka1PC2phqR"
      }
    },
    {
      "cell_type": "markdown",
      "source": [
        "#### Chart - 11"
      ],
      "metadata": {
        "id": "x-EpHcCOp1ci"
      }
    },
    {
      "cell_type": "code",
      "source": [
        "plt.figure(figsize=(12, 6))\n",
        "sns.scatterplot(\n",
        "    data=df[df['price'] < 500],x='number_of_reviews',y='price',hue='room_type',palette='Set1', alpha=0.5,s=60,edgecolor='w'\n",
        ")\n",
        "\n",
        "plt.title(\"Price vs Number of Reviews (Listings Under $500)\", fontsize=16, fontweight='bold')\n",
        "plt.xlabel(\"Number of Reviews\", fontsize=12)\n",
        "plt.ylabel(\"Price ($)\", fontsize=12)\n",
        "plt.grid(True, linestyle='--', alpha=0.3)\n",
        "plt.legend(title='Room Type', loc='upper right')\n",
        "plt.tight_layout()\n",
        "plt.show()\n"
      ],
      "metadata": {
        "id": "7GnaNoXZm_u_"
      },
      "execution_count": null,
      "outputs": []
    },
    {
      "cell_type": "markdown",
      "source": [
        "##### 1. Why did you pick the specific chart?"
      ],
      "metadata": {
        "id": "X_VqEhTip1ck"
      }
    },
    {
      "cell_type": "markdown",
      "source": [
        "To examine the relationship between review count and pricing for reasonably priced listings."
      ],
      "metadata": {
        "id": "-vsMzt_np1ck"
      }
    },
    {
      "cell_type": "markdown",
      "source": [
        "##### 2. What is/are the insight(s) found from the chart?"
      ],
      "metadata": {
        "id": "8zGJKyg5p1ck"
      }
    },
    {
      "cell_type": "markdown",
      "source": [
        "There’s no strong correlation, but many low-priced listings receive a high number of reviews, suggesting affordability boosts demand."
      ],
      "metadata": {
        "id": "ZYdMsrqVp1ck"
      }
    },
    {
      "cell_type": "markdown",
      "source": [
        "##### 3. Will the gained insights help creating a positive business impact?\n",
        "Are there any insights that lead to negative growth? Justify with specific reason."
      ],
      "metadata": {
        "id": "PVzmfK_Ep1ck"
      }
    },
    {
      "cell_type": "markdown",
      "source": [
        "Yes. Suggests lower prices may drive more bookings and reviews, increasing visibility."
      ],
      "metadata": {
        "id": "druuKYZpp1ck"
      }
    },
    {
      "cell_type": "markdown",
      "source": [
        "#### Chart - 12"
      ],
      "metadata": {
        "id": "n3dbpmDWp1ck"
      }
    },
    {
      "cell_type": "code",
      "source": [
        "# Chart - 12 visualization code\n",
        "# Estimate revenue = price × number_of_reviews\n",
        "df['estimated_revenue'] = df['price'] * df['number_of_reviews']\n",
        "\n",
        "revenue_by_borough = df.groupby('neighbourhood_group')['estimated_revenue'].sum().sort_values(ascending=False)\n",
        "\n",
        "plt.figure(figsize=(8, 5))\n",
        "sns.barplot(x=revenue_by_borough.index,hue=revenue_by_borough.index, y=revenue_by_borough.values, palette=\"crest\")\n",
        "plt.title(\"Estimated Revenue by Area\")\n",
        "plt.ylabel(\"Estimated Total Revenue ($)\")\n",
        "plt.tight_layout()\n",
        "plt.show()\n"
      ],
      "metadata": {
        "id": "bwevp1tKp1ck"
      },
      "execution_count": null,
      "outputs": []
    },
    {
      "cell_type": "markdown",
      "source": [
        "##### 1. Why did you pick the specific chart?"
      ],
      "metadata": {
        "id": "ylSl6qgtp1ck"
      }
    },
    {
      "cell_type": "markdown",
      "source": [
        "To compare total potential earnings from Airbnb listings across boroughs."
      ],
      "metadata": {
        "id": "m2xqNkiQp1ck"
      }
    },
    {
      "cell_type": "markdown",
      "source": [
        "##### 2. What is/are the insight(s) found from the chart?"
      ],
      "metadata": {
        "id": "ZWILFDl5p1ck"
      }
    },
    {
      "cell_type": "markdown",
      "source": [
        "Manhattan generates the highest estimated revenue, followed by Brooklyn. Staten Island contributes the least."
      ],
      "metadata": {
        "id": "x-lUsV2mp1ck"
      }
    },
    {
      "cell_type": "markdown",
      "source": [
        "##### 3. Will the gained insights help creating a positive business impact?\n",
        "Are there any insights that lead to negative growth? Justify with specific reason."
      ],
      "metadata": {
        "id": "M7G43BXep1ck"
      }
    },
    {
      "cell_type": "markdown",
      "source": [
        "Yes. Highlights high-performing markets for investment or host acquisition."
      ],
      "metadata": {
        "id": "5wwDJXsLp1cl"
      }
    },
    {
      "cell_type": "markdown",
      "source": [
        "#### Chart - 13 - Correlation Heatmap"
      ],
      "metadata": {
        "id": "NC_X3p0fY2L0"
      }
    },
    {
      "cell_type": "code",
      "source": [
        "# Correlation Heatmap visualization code\n",
        "plt.figure(figsize=(10,6))\n",
        "sns.heatmap(df.corr(numeric_only=True), annot=True, cmap='YlGnBu', fmt='.2f')\n",
        "plt.title(\"Correlation Heatmap\")\n",
        "plt.tight_layout()\n",
        "plt.show()\n"
      ],
      "metadata": {
        "id": "xyC9zolEZNRQ"
      },
      "execution_count": null,
      "outputs": []
    },
    {
      "cell_type": "markdown",
      "source": [
        "##### 1. Why did you pick the specific chart?"
      ],
      "metadata": {
        "id": "UV0SzAkaZNRQ"
      }
    },
    {
      "cell_type": "markdown",
      "source": [
        "To examine relationships between numerical variables and detect possible trends or redundancies."
      ],
      "metadata": {
        "id": "DVPuT8LYZNRQ"
      }
    },
    {
      "cell_type": "markdown",
      "source": [
        "##### 2. What is/are the insight(s) found from the chart?"
      ],
      "metadata": {
        "id": "YPEH6qLeZNRQ"
      }
    },
    {
      "cell_type": "markdown",
      "source": [
        "Strong correlation between number_of_reviews and reviews_per_month.\n",
        "\n",
        "Weak correlation between price and other variables, showing pricing is influenced more by non-numeric factors.\n"
      ],
      "metadata": {
        "id": "bfSqtnDqZNRR"
      }
    },
    {
      "cell_type": "markdown",
      "source": [
        "#### Chart - 14 - Pair Plot"
      ],
      "metadata": {
        "id": "q29F0dvdveiT"
      }
    },
    {
      "cell_type": "code",
      "source": [
        "# Pair Plot visualization code\n",
        "# Select relevant numeric features\n",
        "pairplot_data = df[['price', 'minimum_nights', 'number_of_reviews', 'reviews_per_month', 'availability_365']]\n",
        "\n",
        "\n",
        "pairplot_data = pairplot_data[pairplot_data['price'] < 500]\n",
        "\n",
        "# Plot\n",
        "sns.pairplot(pairplot_data, diag_kind='kde', corner=True, plot_kws={'alpha': 0.5, 's': 20, 'edgecolor': 'k'})\n",
        "plt.suptitle(\"Pair Plot of Key Numerical Features\", y=1.02)\n",
        "plt.show()\n"
      ],
      "metadata": {
        "id": "o58-TEIhveiU"
      },
      "execution_count": null,
      "outputs": []
    },
    {
      "cell_type": "markdown",
      "source": [
        "##### 1. Why did you pick the specific chart?"
      ],
      "metadata": {
        "id": "EXh0U9oCveiU"
      }
    },
    {
      "cell_type": "markdown",
      "source": [
        "To explore potential relationships and interactions between key numerical variables in one consolidated view."
      ],
      "metadata": {
        "id": "eMmPjTByveiU"
      }
    },
    {
      "cell_type": "markdown",
      "source": [
        "##### 2. What is/are the insight(s) found from the chart?"
      ],
      "metadata": {
        "id": "22aHeOlLveiV"
      }
    },
    {
      "cell_type": "markdown",
      "source": [
        "number_of_reviews and reviews_per_month show a positive trend.\n",
        "\n",
        "No strong linear relationship between price and other variables.\n",
        "\n",
        "Most data is concentrated at lower values, especially for minimum_nights"
      ],
      "metadata": {
        "id": "uPQ8RGwHveiV"
      }
    },
    {
      "cell_type": "markdown",
      "source": [
        "## **5. Solution to Business Objective**"
      ],
      "metadata": {
        "id": "JcMwzZxoAimU"
      }
    },
    {
      "cell_type": "markdown",
      "source": [
        "#### What do you suggest the client to achieve Business Objective ?\n",
        "Explain Briefly."
      ],
      "metadata": {
        "id": "8G2x9gOozGDZ"
      }
    },
    {
      "cell_type": "markdown",
      "source": [
        "In order to achieve its business objective, Airbnb can utilize localized data to manage pricing and availability. Manhattan listings, for instance, have the highest revenues and average prices and hence upscale experiences must be emphasized there. Brooklyn, on the other hand, has ample listings with scope for increased host interaction. Dynamic pricing strategies and promotion deals based on such localized trends can boost revenues and satisfaction levels.\n",
        "\n",
        "Airbnb can also focus on underperforming segments by encouraging hosts to put more listings up and being responsive. Data shows that shared and private room listings can be sold where people are looking to save money. Opening up more reviews and competitively priced listings can increase visibility and trust levels, which will improve platform performance and satisfy user expectations across all segments."
      ],
      "metadata": {
        "id": "pASKb0qOza21"
      }
    },
    {
      "cell_type": "markdown",
      "source": [
        "# **Conclusion**"
      ],
      "metadata": {
        "id": "gCX9965dhzqZ"
      }
    },
    {
      "cell_type": "markdown",
      "source": [
        "\n",
        "\n",
        "1. **Brooklyn and Manhattan dominate listings**: These two boroughs have the highest number of listings, indicating major Airbnb activity is concentrated in these areas.\n",
        "\n",
        "2. **Private rooms are the most common**: Among all room types, **private rooms** lead in count, especially in lower-priced areas like Queens and the Bronx.\n",
        "\n",
        "3. **Most listings are affordable**: A majority of listings are priced **under \\$200**, with a steep drop-off after that. High-priced listings are rare and mostly in Manhattan.\n",
        "\n",
        "4. **Hosts prefer flexible availability**: Many listings show **high availability throughout the year**, indicating that hosts are open to frequent bookings.\n",
        "\n",
        "5. **Minimum nights required is low**: Most listings require **less than a week’s stay**, making them suitable for short-term travelers.\n",
        "\n"
      ],
      "metadata": {
        "id": "Fjb1IsQkh3yE"
      }
    },
    {
      "cell_type": "markdown",
      "source": [
        "### ***Hurrah! You have successfully completed your EDA Capstone Project !!!***"
      ],
      "metadata": {
        "id": "gIfDvo9L0UH2"
      }
    }
  ]
}